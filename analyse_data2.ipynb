{
 "cells": [
  {
   "cell_type": "markdown",
   "id": "e8df4ce0-e640-497d-9b16-1e015b62c8ea",
   "metadata": {},
   "source": [
    "Evolution de la popularité des langues de 2019 à 2023"
   ]
  },
  {
   "cell_type": "code",
   "execution_count": 17,
   "id": "a5944486-cf4e-4531-83cc-d2d4f30460f4",
   "metadata": {},
   "outputs": [],
   "source": [
    "import pandas as pd\n",
    "import seaborn as sns\n",
    "import numpy as np\n",
    "import matplotlib.pyplot as plt"
   ]
  },
  {
   "cell_type": "code",
   "execution_count": 3,
   "id": "2fe10fc0-199a-4c64-a517-72ef529bf4af",
   "metadata": {},
   "outputs": [
    {
     "name": "stderr",
     "output_type": "stream",
     "text": [
      "C:\\Users\\marie\\AppData\\Local\\Temp\\ipykernel_29424\\441065526.py:1: DtypeWarning: Columns (6) have mixed types. Specify dtype option on import or set low_memory=False.\n",
      "  df = pd.read_csv('lv-college.csv', sep = ';')\n"
     ]
    },
    {
     "data": {
      "text/plain": [
       "Index(['num_ligne', 'Rentrée scolaire', 'Code région académique',\n",
       "       'Région académique', 'Code académie', 'Académie', 'Code département',\n",
       "       'Département', 'Code postal', 'Commune', 'UAI',\n",
       "       'Dénomination principale', 'Patronyme', 'Secteur', 'REP', 'REP +',\n",
       "       'Nombre d'élèves total', 'Nombre d'élèves total hors Segpa hors ULIS',\n",
       "       'Nombre d'élèves total Segpa', 'Nombre d'élèves total ULIS',\n",
       "       '6èmes total', '6èmes hors Segpa hors ULIS', '6èmes Segpa',\n",
       "       '6èmes ULIS', '6èmes filles', '6èmes garçons', '6èmes LV1 allemand',\n",
       "       '6èmes LV1 anglais', '6èmes LV1 espagnol', '6èmes LV1 autres langues',\n",
       "       '6èmes LV2 allemand', '6èmes LV2 anglais', '6èmes LV2 espagnol',\n",
       "       '6èmes LV2 italien', '6ème LV2 autres langues', '5èmes total',\n",
       "       '5èmes hors Segpa hors ULIS', '5èmes Segpa', '5èmes ULIS',\n",
       "       '5èmes filles', '5èmes garçons', '5èmes LV1 allemand',\n",
       "       '5èmes LV1 anglais', '5èmes LV1 espagnol', '5èmes LV1 autres langues',\n",
       "       '5èmes LV2 allemand', '5èmes LV2 anglais', '5èmes LV2 espagnol',\n",
       "       '5èmes LV2 italien', '5èmes LV2 autres langues', '4èmes total',\n",
       "       '4èmes hors Segpa hors ULIS', '4èmes Segpa', '4èmes ULIS',\n",
       "       '4èmes filles', '4èmes garçons', '4èmes LV1 allemand',\n",
       "       '4èmes LV1 anglais', '4èmes LV1 espagnol', '4èmes LV1 autres langues',\n",
       "       '4èmes LV2 allemand', '4èmes LV2 anglais', '4èmes LV2 espagnol',\n",
       "       '4èmes LV2 italien', '4èmes LV2 autres langues', '3èmes total',\n",
       "       '3èmes hors Segpa hors ULIS', '3èmes Segpa', '3èmes ULIS',\n",
       "       '3èmes filles', '3èmes garçons', '3èmes LV1 allemand',\n",
       "       '3èmes LV1 anglais', '3èmes LV1 espagnol', '3èmes LV1 autres langues',\n",
       "       '3èmes LV2 allemand', '3èmes LV2 anglais', '3èmes LV2 espagnol',\n",
       "       '3èmes LV2 italien', '3èmes LV2 autres langues'],\n",
       "      dtype='object')"
      ]
     },
     "execution_count": 3,
     "metadata": {},
     "output_type": "execute_result"
    }
   ],
   "source": [
    "df = pd.read_csv('lv-college.csv', sep = ';')\n",
    "df.columns"
   ]
  },
  {
   "cell_type": "code",
   "execution_count": 25,
   "id": "bc38e581-f278-45f2-a96d-5fc101680b94",
   "metadata": {},
   "outputs": [
    {
     "data": {
      "text/html": [
       "<div>\n",
       "<style scoped>\n",
       "    .dataframe tbody tr th:only-of-type {\n",
       "        vertical-align: middle;\n",
       "    }\n",
       "\n",
       "    .dataframe tbody tr th {\n",
       "        vertical-align: top;\n",
       "    }\n",
       "\n",
       "    .dataframe thead th {\n",
       "        text-align: right;\n",
       "    }\n",
       "</style>\n",
       "<table border=\"1\" class=\"dataframe\">\n",
       "  <thead>\n",
       "    <tr style=\"text-align: right;\">\n",
       "      <th></th>\n",
       "      <th>3èmes LV1 anglais</th>\n",
       "      <th>4èmes LV1 anglais</th>\n",
       "      <th>5èmes LV1 anglais</th>\n",
       "      <th>6èmes LV1 anglais</th>\n",
       "    </tr>\n",
       "    <tr>\n",
       "      <th>Rentrée scolaire</th>\n",
       "      <th></th>\n",
       "      <th></th>\n",
       "      <th></th>\n",
       "      <th></th>\n",
       "    </tr>\n",
       "  </thead>\n",
       "  <tbody>\n",
       "    <tr>\n",
       "      <th>2019</th>\n",
       "      <td>784819</td>\n",
       "      <td>788700</td>\n",
       "      <td>789520</td>\n",
       "      <td>797361</td>\n",
       "    </tr>\n",
       "    <tr>\n",
       "      <th>2020</th>\n",
       "      <td>798471</td>\n",
       "      <td>785144</td>\n",
       "      <td>799430</td>\n",
       "      <td>788015</td>\n",
       "    </tr>\n",
       "    <tr>\n",
       "      <th>2021</th>\n",
       "      <td>791222</td>\n",
       "      <td>792452</td>\n",
       "      <td>787701</td>\n",
       "      <td>792951</td>\n",
       "    </tr>\n",
       "    <tr>\n",
       "      <th>2022</th>\n",
       "      <td>803292</td>\n",
       "      <td>785111</td>\n",
       "      <td>796198</td>\n",
       "      <td>786391</td>\n",
       "    </tr>\n",
       "    <tr>\n",
       "      <th>2023</th>\n",
       "      <td>798620</td>\n",
       "      <td>793559</td>\n",
       "      <td>788469</td>\n",
       "      <td>787072</td>\n",
       "    </tr>\n",
       "  </tbody>\n",
       "</table>\n",
       "</div>"
      ],
      "text/plain": [
       "                  3èmes LV1 anglais  4èmes LV1 anglais  5èmes LV1 anglais  \\\n",
       "Rentrée scolaire                                                            \n",
       "2019                         784819             788700             789520   \n",
       "2020                         798471             785144             799430   \n",
       "2021                         791222             792452             787701   \n",
       "2022                         803292             785111             796198   \n",
       "2023                         798620             793559             788469   \n",
       "\n",
       "                  6èmes LV1 anglais  \n",
       "Rentrée scolaire                     \n",
       "2019                         797361  \n",
       "2020                         788015  \n",
       "2021                         792951  \n",
       "2022                         786391  \n",
       "2023                         787072  "
      ]
     },
     "execution_count": 25,
     "metadata": {},
     "output_type": "execute_result"
    }
   ],
   "source": [
    "\"\"\"\n",
    "m2019 = (df['Rentrée scolaire'] == 2019)\n",
    "m2020 = (df['Rentrée scolaire'] == 2020)\n",
    "m2021 = (df['Rentrée scolaire'] == 2021)\n",
    "m2022 = (df['Rentrée scolaire'] == 2022)\n",
    "m2023 = (df['Rentrée scolaire'] == 2023)\n",
    "\n",
    "df19 = df[m2019]\n",
    "df20 = df[m2020]\n",
    "df21 = df[m2021]\n",
    "df22 = df[m2022]\n",
    "df23 = df[m2023]\n",
    "\"\"\"\n",
    "\n",
    "lv1ang = df.pivot_table(values = [\"6èmes LV1 anglais\", \"5èmes LV1 anglais\", \"4èmes LV1 anglais\", \"3èmes LV1 anglais\"], index = 'Rentrée scolaire', aggfunc = 'sum')\n",
    "lv1ang"
   ]
  },
  {
   "cell_type": "code",
   "execution_count": 24,
   "id": "852caa33-91aa-47c7-b4ec-913f4bbd1051",
   "metadata": {},
   "outputs": [
    {
     "data": {
      "image/png": "[encoded data removed]",
      "text/plain": [
       "<Figure size 640x480 with 1 Axes>"
      ]
     },
     "metadata": {},
     "output_type": "display_data"
    }
   ],
   "source": [
    "trois = list(lv1ang['3èmes LV1 anglais'])\n",
    "quat = list(lv1ang['4èmes LV1 anglais'])\n",
    "cinq = list(lv1ang['5èmes LV1 anglais'])\n",
    "six = list(lv1ang['6èmes LV1 anglais'])\n",
    "annees = [2019, 2020, 2021, 2022, 2023]\n",
    "\n",
    "plt.bar(annees, six, color='red', label='6èmes')\n",
    "plt.bar(annees, cinq, color='orange', bottom = six, label='5èmes')\n",
    "plt.bar(annees, quat, color='yellow', bottom = np.array(cinq)+np.array(six), label='4èmes')\n",
    "plt.bar(annees, trois, color='green', bottom = np.array(cinq)+np.array(six)+np.array(quat), label='3èmes')\n",
    "\n",
    "plt.title(\"Evolution de l'anglais comme LV1 de 2019 à 2023\")\n",
    "plt.xlabel('Années')\n",
    "plt.ylabel(\"Nombre d'élèves\")\n",
    "plt.legend(loc = 'lower right')\n",
    "plt.show()"
   ]
  },
  {
   "cell_type": "code",
   "execution_count": null,
   "id": "b9530045-d7a6-40a0-b318-0c8e067bfe7f",
   "metadata": {},
   "outputs": [],
   "source": [
    "# Analyse : pas vraiment de différence"
   ]
  }
 ],
 "metadata": {
  "kernelspec": {
   "display_name": "Python 3 (ipykernel)",
   "language": "python",
   "name": "python3"
  },
  "language_info": {
   "codemirror_mode": {
    "name": "ipython",
    "version": 3
   },
   "file_extension": ".py",
   "mimetype": "text/x-python",
   "name": "python",
   "nbconvert_exporter": "python",
   "pygments_lexer": "ipython3",
   "version": "3.12.4"
  }
 },
 "nbformat": 4,
 "nbformat_minor": 5
}
