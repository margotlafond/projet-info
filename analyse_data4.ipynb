{
 "cells": [
  {
   "cell_type": "markdown",
   "id": "56014613-b438-46a1-9ccb-74ff2354ac18",
   "metadata": {},
   "source": [
    "Part des collèges dans le privé/public en REP/REP+/zone \"classique\""
   ]
  },
  {
   "cell_type": "code",
   "execution_count": 1,
   "id": "6ec05056-ec8e-465c-9f48-ce85d191fb01",
   "metadata": {},
   "outputs": [],
   "source": [
    "import pandas as pd\n",
    "import matplotlib.pyplot as plt"
   ]
  },
  {
   "cell_type": "code",
   "execution_count": 4,
   "id": "543ff707-054c-4ab1-a6cc-e3e5e7edef64",
   "metadata": {},
   "outputs": [
    {
     "data": {
      "text/html": [
       "<div>\n",
       "<style scoped>\n",
       "    .dataframe tbody tr th:only-of-type {\n",
       "        vertical-align: middle;\n",
       "    }\n",
       "\n",
       "    .dataframe tbody tr th {\n",
       "        vertical-align: top;\n",
       "    }\n",
       "\n",
       "    .dataframe thead th {\n",
       "        text-align: right;\n",
       "    }\n",
       "</style>\n",
       "<table border=\"1\" class=\"dataframe\">\n",
       "  <thead>\n",
       "    <tr style=\"text-align: right;\">\n",
       "      <th></th>\n",
       "      <th>Secteur</th>\n",
       "    </tr>\n",
       "    <tr>\n",
       "      <th>REP</th>\n",
       "      <th></th>\n",
       "    </tr>\n",
       "  </thead>\n",
       "  <tbody>\n",
       "    <tr>\n",
       "      <th>0</th>\n",
       "      <td>PUBLICPUBLICPUBLICPUBLICPUBLICPUBLICPUBLICPUBL...</td>\n",
       "    </tr>\n",
       "    <tr>\n",
       "      <th>1</th>\n",
       "      <td>PUBLICPUBLICPUBLICPUBLICPUBLICPUBLICPUBLICPUBL...</td>\n",
       "    </tr>\n",
       "  </tbody>\n",
       "</table>\n",
       "</div>"
      ],
      "text/plain": [
       "                                               Secteur\n",
       "REP                                                   \n",
       "0    PUBLICPUBLICPUBLICPUBLICPUBLICPUBLICPUBLICPUBL...\n",
       "1    PUBLICPUBLICPUBLICPUBLICPUBLICPUBLICPUBLICPUBL..."
      ]
     },
     "metadata": {},
     "output_type": "display_data"
    },
    {
     "data": {
      "text/html": [
       "<div>\n",
       "<style scoped>\n",
       "    .dataframe tbody tr th:only-of-type {\n",
       "        vertical-align: middle;\n",
       "    }\n",
       "\n",
       "    .dataframe tbody tr th {\n",
       "        vertical-align: top;\n",
       "    }\n",
       "\n",
       "    .dataframe thead th {\n",
       "        text-align: right;\n",
       "    }\n",
       "</style>\n",
       "<table border=\"1\" class=\"dataframe\">\n",
       "  <thead>\n",
       "    <tr style=\"text-align: right;\">\n",
       "      <th></th>\n",
       "      <th>Secteur</th>\n",
       "    </tr>\n",
       "    <tr>\n",
       "      <th>REP +</th>\n",
       "      <th></th>\n",
       "    </tr>\n",
       "  </thead>\n",
       "  <tbody>\n",
       "    <tr>\n",
       "      <th>0</th>\n",
       "      <td>PUBLICPUBLICPUBLICPUBLICPUBLICPUBLICPUBLICPUBL...</td>\n",
       "    </tr>\n",
       "    <tr>\n",
       "      <th>1</th>\n",
       "      <td>PUBLICPUBLICPUBLICPUBLICPUBLICPUBLICPUBLICPUBL...</td>\n",
       "    </tr>\n",
       "  </tbody>\n",
       "</table>\n",
       "</div>"
      ],
      "text/plain": [
       "                                                 Secteur\n",
       "REP +                                                   \n",
       "0      PUBLICPUBLICPUBLICPUBLICPUBLICPUBLICPUBLICPUBL...\n",
       "1      PUBLICPUBLICPUBLICPUBLICPUBLICPUBLICPUBLICPUBL..."
      ]
     },
     "metadata": {},
     "output_type": "display_data"
    }
   ],
   "source": [
    "df = pd.read_csv('lv-college.csv', sep = ';')\n",
    "sect_rep = df.pivot_table(values = \"Secteur\", index = 'REP', aggfunc = 'sum')\n",
    "sect_replus = df.pivot_table(values = \"Secteur\", index = 'REP +', aggfunc = 'sum')\n",
    "display(sect_rep)\n",
    "display(sect_replus)"
   ]
  },
  {
   "cell_type": "code",
   "execution_count": 34,
   "id": "6f0898ee-7025-43fc-a717-2ee0da8d013d",
   "metadata": {},
   "outputs": [],
   "source": [
    "secteur = df.groupby(by = ['Secteur'])\n",
    "prive = secteur.get_group(('PRIVE',))\n",
    "priv_replus = prive['REP +'].sum()\n",
    "priv_rep = prive['REP'].sum()\n",
    "nb_prive = prive.shape[1]"
   ]
  },
  {
   "cell_type": "code",
   "execution_count": null,
   "id": "4c774a89-887e-4ff4-b3cd-9d0c5b7a3eb4",
   "metadata": {},
   "outputs": [],
   "source": []
  },
  {
   "cell_type": "code",
   "execution_count": null,
   "id": "0037c8b9-c68f-4d55-ab9f-f0cf9a85eba1",
   "metadata": {},
   "outputs": [],
   "source": []
  }
 ],
 "metadata": {
  "kernelspec": {
   "display_name": "Python 3 (ipykernel)",
   "language": "python",
   "name": "python3"
  },
  "language_info": {
   "codemirror_mode": {
    "name": "ipython",
    "version": 3
   },
   "file_extension": ".py",
   "mimetype": "text/x-python",
   "name": "python",
   "nbconvert_exporter": "python",
   "pygments_lexer": "ipython3",
   "version": "3.12.4"
  }
 },
 "nbformat": 4,
 "nbformat_minor": 5
}
